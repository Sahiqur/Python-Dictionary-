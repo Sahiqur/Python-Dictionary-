{
 "cells": [
  {
   "cell_type": "code",
   "execution_count": 5,
   "id": "7a819d0d",
   "metadata": {},
   "outputs": [
    {
     "name": "stdout",
     "output_type": "stream",
     "text": [
      "{'Name': 'Sahiqur Rahman', 'Age': 24, 'University': 'CCN', 'Id': 111119028, 'Dept': 'CSE'}\n"
     ]
    }
   ],
   "source": [
    "txt={\n",
    "    \"Name\":\"Sahiqur Rahman\",\n",
    "    \"Age\":24,\n",
    "    \"University\":\"CCN\",\n",
    "    \"Id\":111119028,\n",
    "    \"Dept\":\"CSE\",\n",
    "}\n",
    "print(txt)"
   ]
  },
  {
   "cell_type": "code",
   "execution_count": 6,
   "id": "53bdecac",
   "metadata": {},
   "outputs": [
    {
     "data": {
      "text/plain": [
       "dict"
      ]
     },
     "execution_count": 6,
     "metadata": {},
     "output_type": "execute_result"
    }
   ],
   "source": [
    "type(txt)"
   ]
  },
  {
   "cell_type": "code",
   "execution_count": 7,
   "id": "3b1670c7",
   "metadata": {},
   "outputs": [
    {
     "data": {
      "text/plain": [
       "dict_values(['Sahiqur Rahman', 24, 'CCN', 111119028, 'CSE'])"
      ]
     },
     "execution_count": 7,
     "metadata": {},
     "output_type": "execute_result"
    }
   ],
   "source": [
    "txt.values()"
   ]
  },
  {
   "cell_type": "code",
   "execution_count": 8,
   "id": "cadf077c",
   "metadata": {},
   "outputs": [
    {
     "data": {
      "text/plain": [
       "dict_items([('Name', 'Sahiqur Rahman'), ('Age', 24), ('University', 'CCN'), ('Id', 111119028), ('Dept', 'CSE')])"
      ]
     },
     "execution_count": 8,
     "metadata": {},
     "output_type": "execute_result"
    }
   ],
   "source": [
    "txt.items()"
   ]
  },
  {
   "cell_type": "code",
   "execution_count": 12,
   "id": "39a85aea",
   "metadata": {},
   "outputs": [
    {
     "data": {
      "text/plain": [
       "'Abir Miah'"
      ]
     },
     "execution_count": 12,
     "metadata": {},
     "output_type": "execute_result"
    }
   ],
   "source": [
    "txt={\n",
    "    \"Name\":\"Abir Miah\",\n",
    "    \"Age\":24,\n",
    "    \"dept\":\"CSE\"\n",
    "}\n",
    "txt[\"Name\"]"
   ]
  },
  {
   "cell_type": "code",
   "execution_count": 14,
   "id": "557132df",
   "metadata": {},
   "outputs": [
    {
     "data": {
      "text/plain": [
       "3"
      ]
     },
     "execution_count": 14,
     "metadata": {},
     "output_type": "execute_result"
    }
   ],
   "source": [
    "txt={\n",
    "    \"Name\":\"Abir Miah\",\n",
    "    \"Age\":24,\n",
    "    \"dept\":\"CSE\"\n",
    "}\n",
    "len(txt)"
   ]
  },
  {
   "cell_type": "code",
   "execution_count": 17,
   "id": "2956d004",
   "metadata": {},
   "outputs": [
    {
     "name": "stdout",
     "output_type": "stream",
     "text": [
      "{'Name': 'Abir Miah', 'Age': 24, 'dept': 'CSE', 'Course': ['Data Structure', 'Python', 'Java', 'PHP', 'C#']}\n"
     ]
    }
   ],
   "source": [
    "txt={\n",
    "    \"Name\":\"Abir Miah\",\n",
    "    \"Age\":24,\n",
    "    \"dept\":\"CSE\",\n",
    "    \"Course\":[\"Data Structure\",\"Python\",\"Java\",\"PHP\",\"C#\"]\n",
    "}\n",
    "print(txt)"
   ]
  },
  {
   "cell_type": "code",
   "execution_count": 18,
   "id": "72ce3ff8",
   "metadata": {},
   "outputs": [
    {
     "data": {
      "text/plain": [
       "4"
      ]
     },
     "execution_count": 18,
     "metadata": {},
     "output_type": "execute_result"
    }
   ],
   "source": [
    "len(txt)"
   ]
  },
  {
   "cell_type": "code",
   "execution_count": 19,
   "id": "cbae930c",
   "metadata": {},
   "outputs": [
    {
     "data": {
      "text/plain": [
       "dict_items([('Name', 'Abir Miah'), ('Age', 24), ('dept', 'CSE'), ('Course', ['Data Structure', 'Python', 'Java', 'PHP', 'C#'])])"
      ]
     },
     "execution_count": 19,
     "metadata": {},
     "output_type": "execute_result"
    }
   ],
   "source": [
    "txt.items()"
   ]
  },
  {
   "cell_type": "code",
   "execution_count": 20,
   "id": "df324d06",
   "metadata": {},
   "outputs": [
    {
     "name": "stdout",
     "output_type": "stream",
     "text": [
      "['Data Structure', 'Python', 'Java', 'PHP', 'C#']\n"
     ]
    }
   ],
   "source": [
    "print(txt[\"Course\"])"
   ]
  },
  {
   "cell_type": "code",
   "execution_count": 22,
   "id": "22a0c642",
   "metadata": {},
   "outputs": [
    {
     "data": {
      "text/plain": [
       "'Abir Miah'"
      ]
     },
     "execution_count": 22,
     "metadata": {},
     "output_type": "execute_result"
    }
   ],
   "source": [
    "txt[\"Name\"]"
   ]
  },
  {
   "cell_type": "code",
   "execution_count": 23,
   "id": "38c7b329",
   "metadata": {},
   "outputs": [
    {
     "data": {
      "text/plain": [
       "dict_keys(['Name', 'Age', 'dept', 'Course'])"
      ]
     },
     "execution_count": 23,
     "metadata": {},
     "output_type": "execute_result"
    }
   ],
   "source": [
    "txt.keys()"
   ]
  },
  {
   "cell_type": "code",
   "execution_count": 24,
   "id": "3d4d1738",
   "metadata": {},
   "outputs": [
    {
     "data": {
      "text/plain": [
       "{'Name': 'Sahiqur Rahman',\n",
       " 'Age': 24,\n",
       " 'dept': 'CSE',\n",
       " 'Course': ['Data Structure', 'Python', 'Java', 'PHP', 'C#']}"
      ]
     },
     "execution_count": 24,
     "metadata": {},
     "output_type": "execute_result"
    }
   ],
   "source": [
    "txt={\n",
    "    \"Name\":\"Abir Miah\",\n",
    "    \"Age\":24,\n",
    "    \"dept\":\"CSE\",\n",
    "    \"Course\":[\"Data Structure\",\"Python\",\"Java\",\"PHP\",\"C#\"]\n",
    "}\n",
    "txt.keys()\n",
    "txt[\"Name\"]=\"Sahiqur Rahman\"\n",
    "txt"
   ]
  },
  {
   "cell_type": "code",
   "execution_count": 25,
   "id": "484a83a8",
   "metadata": {},
   "outputs": [
    {
     "data": {
      "text/plain": [
       "{'Name': 'Abir Miah',\n",
       " 'Age': 30,\n",
       " 'dept': 'CSE',\n",
       " 'Course': ['Data Structure', 'Python', 'Java', 'PHP', 'C#']}"
      ]
     },
     "execution_count": 25,
     "metadata": {},
     "output_type": "execute_result"
    }
   ],
   "source": [
    "txt={\n",
    "    \"Name\":\"Abir Miah\",\n",
    "    \"Age\":24,\n",
    "    \"dept\":\"CSE\",\n",
    "    \"Course\":[\"Data Structure\",\"Python\",\"Java\",\"PHP\",\"C#\"]\n",
    "}\n",
    "txt[\"Age\"]=30\n",
    "txt"
   ]
  },
  {
   "cell_type": "code",
   "execution_count": 28,
   "id": "89597909",
   "metadata": {},
   "outputs": [
    {
     "name": "stdout",
     "output_type": "stream",
     "text": [
      "{'Name': 'Sahiqur Rahman', 'Age': 24, 'dept': 'CSE', 'Course': ['Data Structure', 'Python', 'Java', 'PHP', 'C#']}\n"
     ]
    }
   ],
   "source": [
    "txt={\n",
    "    \"Name\":\"Abir Miah\",\n",
    "    \"Age\":24,\n",
    "    \"dept\":\"CSE\",\n",
    "    \"Course\":[\"Data Structure\",\"Python\",\"Java\",\"PHP\",\"C#\"]\n",
    "}\n",
    "txt.update({\"Name\":\"Sahiqur Rahman\"})\n",
    "print(txt)"
   ]
  },
  {
   "cell_type": "code",
   "execution_count": 29,
   "id": "f55d8073",
   "metadata": {},
   "outputs": [
    {
     "data": {
      "text/plain": [
       "{'Name': 'Abir Miah',\n",
       " 'Age': 24,\n",
       " 'dept': 'CSE',\n",
       " 'Course': ['Data Structure', 'Python', 'Java', 'PHP', 'C#'],\n",
       " 'student': 'Regular'}"
      ]
     },
     "execution_count": 29,
     "metadata": {},
     "output_type": "execute_result"
    }
   ],
   "source": [
    "txt={\n",
    "    \"Name\":\"Abir Miah\",\n",
    "    \"Age\":24,\n",
    "    \"dept\":\"CSE\",\n",
    "    \"Course\":[\"Data Structure\",\"Python\",\"Java\",\"PHP\",\"C#\"]\n",
    "}\n",
    "txt[\"student\"]=\"Regular\"\n",
    "txt"
   ]
  },
  {
   "cell_type": "code",
   "execution_count": 34,
   "id": "72bbf568",
   "metadata": {},
   "outputs": [
    {
     "data": {
      "text/plain": [
       "{'Age': 24,\n",
       " 'dept': 'CSE',\n",
       " 'Course': ['Data Structure', 'Python', 'Java', 'PHP', 'C#']}"
      ]
     },
     "execution_count": 34,
     "metadata": {},
     "output_type": "execute_result"
    }
   ],
   "source": [
    "txt={\n",
    "    \"Name\":\"Abir Miah\",\n",
    "    \"Age\":24,\n",
    "    \"dept\":\"CSE\",\n",
    "    \"Course\":[\"Data Structure\",\"Python\",\"Java\",\"PHP\",\"C#\"]\n",
    "}\n",
    "txt.pop(\"Name\")\n",
    "txt"
   ]
  },
  {
   "cell_type": "code",
   "execution_count": 35,
   "id": "acb7d16a",
   "metadata": {},
   "outputs": [
    {
     "data": {
      "text/plain": [
       "('Course', ['Data Structure', 'Python', 'Java', 'PHP', 'C#'])"
      ]
     },
     "execution_count": 35,
     "metadata": {},
     "output_type": "execute_result"
    }
   ],
   "source": [
    "txt={\n",
    "    \"Name\":\"Abir Miah\",\n",
    "    \"Age\":24,\n",
    "    \"dept\":\"CSE\",\n",
    "    \"Course\":[\"Data Structure\",\"Python\",\"Java\",\"PHP\",\"C#\"]\n",
    "}\n",
    "txt.popitem()"
   ]
  },
  {
   "cell_type": "code",
   "execution_count": 37,
   "id": "1cce0827",
   "metadata": {},
   "outputs": [
    {
     "data": {
      "text/plain": [
       "{'Age': 24,\n",
       " 'dept': 'CSE',\n",
       " 'Course': ['Data Structure', 'Python', 'Java', 'PHP', 'C#']}"
      ]
     },
     "execution_count": 37,
     "metadata": {},
     "output_type": "execute_result"
    }
   ],
   "source": [
    "txt={\n",
    "    \"Name\":\"Abir Miah\",\n",
    "    \"Age\":24,\n",
    "    \"dept\":\"CSE\",\n",
    "    \"Course\":[\"Data Structure\",\"Python\",\"Java\",\"PHP\",\"C#\"]\n",
    "}\n",
    "del txt[\"Name\"]\n",
    "txt"
   ]
  },
  {
   "cell_type": "code",
   "execution_count": 39,
   "id": "d4c2131b",
   "metadata": {},
   "outputs": [
    {
     "data": {
      "text/plain": [
       "{}"
      ]
     },
     "execution_count": 39,
     "metadata": {},
     "output_type": "execute_result"
    }
   ],
   "source": [
    "txt={\n",
    "    \"Name\":\"Abir Miah\",\n",
    "    \"Age\":24,\n",
    "    \"dept\":\"CSE\",\n",
    "    \"Course\":[\"Data Structure\",\"Python\",\"Java\",\"PHP\",\"C#\"]\n",
    "}\n",
    "txt.clear()\n",
    "\n",
    "txt"
   ]
  },
  {
   "cell_type": "code",
   "execution_count": 40,
   "id": "ace729f6",
   "metadata": {},
   "outputs": [
    {
     "name": "stdout",
     "output_type": "stream",
     "text": [
      "Name\n",
      "Age\n",
      "dept\n",
      "Course\n"
     ]
    }
   ],
   "source": [
    "txt={\n",
    "    \"Name\":\"Abir Miah\",\n",
    "    \"Age\":24,\n",
    "    \"dept\":\"CSE\",\n",
    "    \"Course\":[\"Data Structure\",\"Python\",\"Java\",\"PHP\",\"C#\"]\n",
    "}\n",
    "for x in txt:\n",
    "    print(x)"
   ]
  },
  {
   "cell_type": "code",
   "execution_count": 41,
   "id": "b04906dd",
   "metadata": {},
   "outputs": [
    {
     "name": "stdout",
     "output_type": "stream",
     "text": [
      "Abir Miah\n",
      "24\n",
      "CSE\n",
      "['Data Structure', 'Python', 'Java', 'PHP', 'C#']\n"
     ]
    }
   ],
   "source": [
    "txt={\n",
    "    \"Name\":\"Abir Miah\",\n",
    "    \"Age\":24,\n",
    "    \"dept\":\"CSE\",\n",
    "    \"Course\":[\"Data Structure\",\"Python\",\"Java\",\"PHP\",\"C#\"]\n",
    "}\n",
    "for x in txt:\n",
    "    print(txt[x])"
   ]
  },
  {
   "cell_type": "code",
   "execution_count": 44,
   "id": "32d11fed",
   "metadata": {},
   "outputs": [
    {
     "name": "stdout",
     "output_type": "stream",
     "text": [
      "Abir Miah\n",
      "24\n",
      "CSE\n",
      "['Data Structure', 'Python', 'Java', 'PHP', 'C#']\n"
     ]
    }
   ],
   "source": [
    "txt={\n",
    "    \"Name\":\"Abir Miah\",\n",
    "    \"Age\":24,\n",
    "    \"dept\":\"CSE\",\n",
    "    \"Course\":[\"Data Structure\",\"Python\",\"Java\",\"PHP\",\"C#\"]\n",
    "}\n",
    "for x in txt.values():\n",
    "    print(x)"
   ]
  },
  {
   "cell_type": "code",
   "execution_count": 45,
   "id": "9671bb08",
   "metadata": {},
   "outputs": [
    {
     "name": "stdout",
     "output_type": "stream",
     "text": [
      "Name\n",
      "Age\n",
      "dept\n",
      "Course\n"
     ]
    }
   ],
   "source": [
    "txt={\n",
    "    \"Name\":\"Abir Miah\",\n",
    "    \"Age\":24,\n",
    "    \"dept\":\"CSE\",\n",
    "    \"Course\":[\"Data Structure\",\"Python\",\"Java\",\"PHP\",\"C#\"]\n",
    "}\n",
    "for x in txt.keys():\n",
    "    print(x)"
   ]
  },
  {
   "cell_type": "code",
   "execution_count": 46,
   "id": "b6a40a6b",
   "metadata": {},
   "outputs": [
    {
     "name": "stdout",
     "output_type": "stream",
     "text": [
      "('Name', 'Abir Miah')\n",
      "('Age', 24)\n",
      "('dept', 'CSE')\n",
      "('Course', ['Data Structure', 'Python', 'Java', 'PHP', 'C#'])\n"
     ]
    }
   ],
   "source": [
    "txt={\n",
    "    \"Name\":\"Abir Miah\",\n",
    "    \"Age\":24,\n",
    "    \"dept\":\"CSE\",\n",
    "    \"Course\":[\"Data Structure\",\"Python\",\"Java\",\"PHP\",\"C#\"]\n",
    "}\n",
    "for x in txt.items():\n",
    "    print(x)"
   ]
  },
  {
   "cell_type": "code",
   "execution_count": 47,
   "id": "f79efb60",
   "metadata": {},
   "outputs": [
    {
     "data": {
      "text/plain": [
       "{'Name': 'Abir Miah',\n",
       " 'Age': 24,\n",
       " 'dept': 'CSE',\n",
       " 'Course': ['Data Structure', 'Python', 'Java', 'PHP', 'C#']}"
      ]
     },
     "execution_count": 47,
     "metadata": {},
     "output_type": "execute_result"
    }
   ],
   "source": [
    "txt={\n",
    "    \"Name\":\"Abir Miah\",\n",
    "    \"Age\":24,\n",
    "    \"dept\":\"CSE\",\n",
    "    \"Course\":[\"Data Structure\",\"Python\",\"Java\",\"PHP\",\"C#\"]\n",
    "}\n",
    "txt.copy()"
   ]
  },
  {
   "cell_type": "code",
   "execution_count": 55,
   "id": "2a1159fb",
   "metadata": {},
   "outputs": [
    {
     "name": "stdout",
     "output_type": "stream",
     "text": [
      "{'Student1': {'Name': 'Sahiqur Rahman', 'Age': 24, 'Dept': 'CSE'}, 'Student2': {'Name': 'Abir Ahammad', 'Age': 23, 'Dept': 'EEE'}}\n"
     ]
    }
   ],
   "source": [
    "txt={\n",
    "    \"Student1\":{\n",
    "        \"Name\":\"Sahiqur Rahman\",\n",
    "        \"Age\":24,\n",
    "        \"Dept\":\"CSE\",\n",
    "    },\n",
    "    \"Student2\":{\n",
    "        \"Name\":\"Abir Ahammad\",\n",
    "        \"Age\":23,\n",
    "        \"Dept\":\"EEE\"\n",
    "    },\n",
    "}\n",
    "print(txt)"
   ]
  },
  {
   "cell_type": "code",
   "execution_count": 56,
   "id": "56296f7d",
   "metadata": {},
   "outputs": [
    {
     "data": {
      "text/plain": [
       "dict"
      ]
     },
     "execution_count": 56,
     "metadata": {},
     "output_type": "execute_result"
    }
   ],
   "source": [
    "type(txt)"
   ]
  },
  {
   "cell_type": "code",
   "execution_count": 57,
   "id": "7d8cd869",
   "metadata": {},
   "outputs": [
    {
     "data": {
      "text/plain": [
       "'Sahiqur Rahman'"
      ]
     },
     "execution_count": 57,
     "metadata": {},
     "output_type": "execute_result"
    }
   ],
   "source": [
    "txt={\n",
    "    \"Student1\":{\n",
    "        \"Name\":\"Sahiqur Rahman\",\n",
    "        \"Age\":24,\n",
    "        \"Dept\":\"CSE\",\n",
    "    },\n",
    "    \"Student2\":{\n",
    "        \"Name\":\"Abir Ahammad\",\n",
    "        \"Age\":23,\n",
    "        \"Dept\":\"EEE\"\n",
    "    },\n",
    "}\n",
    "txt[\"Student1\"][\"Name\"]"
   ]
  },
  {
   "cell_type": "code",
   "execution_count": 59,
   "id": "67fcc4b2",
   "metadata": {},
   "outputs": [
    {
     "data": {
      "text/plain": [
       "{}"
      ]
     },
     "execution_count": 59,
     "metadata": {},
     "output_type": "execute_result"
    }
   ],
   "source": [
    "txt.clear()\n",
    "txt"
   ]
  },
  {
   "cell_type": "code",
   "execution_count": null,
   "id": "a45cff77",
   "metadata": {},
   "outputs": [],
   "source": []
  }
 ],
 "metadata": {
  "kernelspec": {
   "display_name": "Python 3 (ipykernel)",
   "language": "python",
   "name": "python3"
  },
  "language_info": {
   "codemirror_mode": {
    "name": "ipython",
    "version": 3
   },
   "file_extension": ".py",
   "mimetype": "text/x-python",
   "name": "python",
   "nbconvert_exporter": "python",
   "pygments_lexer": "ipython3",
   "version": "3.11.5"
  }
 },
 "nbformat": 4,
 "nbformat_minor": 5
}
